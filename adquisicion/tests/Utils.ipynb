{
 "cells": [
  {
   "cell_type": "code",
   "execution_count": 12,
   "metadata": {
    "collapsed": false
   },
   "outputs": [
    {
     "name": "stdout",
     "output_type": "stream",
     "text": [
      "Warning: Cannot change to a different GUI toolkit: tk. Using qt instead.\n"
     ]
    }
   ],
   "source": [
    "import numpy as np\n",
    "import pandas as pd\n",
    "import seaborn as sns\n",
    "import matplotlib.pyplot as plt\n",
    "import scipy as sp\n",
    "from scipy import signal\n",
    "import sklearn as skl\n",
    "%matplotlib tk\n",
    "\n",
    "from ipywidgets import interact\n",
    "\n",
    "\n",
    "plt.rcParams[\"figure.dpi\"] = 150\n",
    "plt.rcParams[\"figure.figsize\"] = (5*(1+np.sqrt(5))/2,5)"
   ]
  },
  {
   "cell_type": "code",
   "execution_count": 16,
   "metadata": {
    "collapsed": false
   },
   "outputs": [
    {
     "name": "stdout",
     "output_type": "stream",
     "text": [
      "Frecuencia de muestreo: 10000.0000000011\n"
     ]
    },
    {
     "name": "stderr",
     "output_type": "stream",
     "text": [
      "C:\\Users\\sadeus\\Anaconda3\\lib\\site-packages\\pandas\\core\\generic.py:2698: SettingWithCopyWarning: \n",
      "A value is trying to be set on a copy of a slice from a DataFrame.\n",
      "Try using .loc[row_indexer,col_indexer] = value instead\n",
      "\n",
      "See the caveats in the documentation: http://pandas.pydata.org/pandas-docs/stable/indexing.html#indexing-view-versus-copy\n",
      "  self[name] = value\n"
     ]
    }
   ],
   "source": [
    "raw = pd.read_csv(\"../mediciones/med6_4_16/13rps_int.csv\", sep=\",\", comment=\"#\")\n",
    "data = raw.iloc[:,0:2]\n",
    "data.X = data.iloc[:,0].astype('float64')\n",
    "data.CH1 = data.iloc[:,1].astype('float64')\n",
    "#data = np.loadtxt(\"../mediciones/med6_4_16/12rmp.csv\",skiprows=2, delimiter=\",\")\n",
    "#data[:,0] -= data[:,0].min()\n",
    "#data[:,0] *= 1e-6\n",
    "data = data.values\n",
    "\n",
    "print(\"Frecuencia de muestreo: {}\".format(1/np.diff(data[:,0])[0]))"
   ]
  },
  {
   "cell_type": "markdown",
   "metadata": {},
   "source": [
    "### Obtención de la frecuencia fundamental"
   ]
  },
  {
   "cell_type": "code",
   "execution_count": 3,
   "metadata": {
    "collapsed": false,
    "scrolled": true
   },
   "outputs": [
    {
     "data": {
      "text/plain": [
       "12.81738281250141"
      ]
     },
     "execution_count": 3,
     "metadata": {},
     "output_type": "execute_result"
    }
   ],
   "source": [
    "def get_freq(data):\n",
    "    fft = np.fft.rfft(data[:,1])\n",
    "    freq = np.fft.rfftfreq(data.shape[0], d = np.diff(data[:,0])[0])\n",
    "    \n",
    "    #Elimino el máximo inicial, que es un artefácto del algoritmo\n",
    "    freq = freq[1:]\n",
    "    fft = np.abs(fft[1:])\n",
    "    \n",
    "    #Obtengo el valor máximo, que va a ser la fundamental de la señal\n",
    "    max_fft = fft == fft.max()\n",
    "    \n",
    "    #Ploteo de debuggeo\n",
    "    #plt.plot(freq[freq < 200], fft[freq < 200],\"bo-\")\n",
    "    #plt.plot(freq[max_fft], fft[max_fft],\"ro\")\n",
    "    \n",
    "    #Devuelvo la frecuencia, como float\n",
    "    return freq[max_fft][0]\n",
    "\n",
    "%matplotlib inline\n",
    "get_freq(data)"
   ]
  },
  {
   "cell_type": "markdown",
   "metadata": {},
   "source": [
    "### Ajuste de los datos por medio de filtros y gaussianas"
   ]
  },
  {
   "cell_type": "code",
   "execution_count": 13,
   "metadata": {
    "collapsed": false
   },
   "outputs": [
    {
     "name": "stdout",
     "output_type": "stream",
     "text": [
      "2.25635054028 0.251611599088\n",
      "0.111512637153\n"
     ]
    }
   ],
   "source": [
    "#d = 1\n",
    "#nmin = 1000 * d\n",
    "#nmax = 1000 + d * 2000\n",
    "T = data[:,0]\n",
    "V = data[:,1]\n",
    "\n",
    "#Obtengo automáticamente la frecuencia, a partir de FFT\n",
    "f = get_freq(data)\n",
    "\n",
    "filt = sp.signal.medfilt(V,kernel_size=25)\n",
    "gauss = np.abs(sp.ndimage.gaussian_filter(filt, 50, order=1))\n",
    "gauss = gauss/gauss.max()\n",
    "\n",
    "fig = plt.figure(1)\n",
    "plt.plot(T,V,'ro')\n",
    "#Plot de debuggeo\n",
    "#plt.plot(T,gauss,'bo')\n",
    "\n",
    "peaks = sp.signal.find_peaks_cwt(gauss, np.array([30]))\n",
    "plt.plot(T[peaks],V[peaks],'bd')\n",
    "err_f = lambda x, a, b, c, d: a + b * sp.special.erf(np.sqrt(2)*(x - c) / d)\n",
    "\n",
    "\n",
    "\n",
    "w = 2 * np.pi * f\n",
    "R = 10\n",
    "σ = []\n",
    "DeltaT = 0.2 / f #Encontrar frecuencia automáticamente!\n",
    "for i in peaks:\n",
    "    ind = np.abs(T - T[i]) < DeltaT\n",
    "    x = T[ind]\n",
    "    y = V[ind]\n",
    "    p0 = [y.max()/2, -y.max()/2, (x.max() + x.min())/2, 0.5*(x.max() - x.min())]\n",
    "    try:\n",
    "        p, cov = sp.optimize.curve_fit(err_f, x, y, p0 = p0)\n",
    "        t = np.linspace(x.min(), x.max() , 1000)\n",
    "        plt.plot(t, err_f(t,*p),figure=fig, linewidth=2)\n",
    "        #print(p[3]*R*w)\n",
    "        σ.append(p[3]*R*w)\n",
    "    except RuntimeError:\n",
    "        print(\"No se pudo ajustar\")\n",
    "        pass\n",
    "\n",
    "        #A.append(mod_max(int(i + DeltaT/2)))\n",
    "print(np.mean(np.array(σ)), np.sqrt(np.var(np.array(σ))))\n",
    "print(np.sqrt(np.var(np.array(σ)))/np.mean(np.array(σ)))"
   ]
  },
  {
   "cell_type": "code",
   "execution_count": null,
   "metadata": {
    "collapsed": true
   },
   "outputs": [],
   "source": []
  }
 ],
 "metadata": {
  "kernelspec": {
   "display_name": "Python 3",
   "language": "python",
   "name": "python3"
  },
  "language_info": {
   "codemirror_mode": {
    "name": "ipython",
    "version": 3
   },
   "file_extension": ".py",
   "mimetype": "text/x-python",
   "name": "python",
   "nbconvert_exporter": "python",
   "pygments_lexer": "ipython3",
   "version": "3.4.4"
  }
 },
 "nbformat": 4,
 "nbformat_minor": 0
}
